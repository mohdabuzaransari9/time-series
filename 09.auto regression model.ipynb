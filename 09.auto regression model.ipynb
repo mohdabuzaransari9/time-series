{
  "nbformat": 4,
  "nbformat_minor": 0,
  "metadata": {
    "colab": {
      "provenance": []
    },
    "kernelspec": {
      "name": "python3",
      "display_name": "Python 3"
    },
    "language_info": {
      "name": "python"
    }
  },
  "cells": [
    {
      "cell_type": "markdown",
      "source": [
        "**loading data**"
      ],
      "metadata": {
        "id": "00dB8SZzEXYA"
      }
    },
    {
      "cell_type": "code",
      "source": [
        "import pandas as pd"
      ],
      "metadata": {
        "id": "2NfRV_-FEMXo"
      },
      "execution_count": null,
      "outputs": []
    },
    {
      "cell_type": "code",
      "source": [
        "df=pd.read_csv(\"/content/data/daily-min-temperatures.csv\",header=0,parse_dates=[0])"
      ],
      "metadata": {
        "id": "cbiihDtcEOnR"
      },
      "execution_count": null,
      "outputs": []
    },
    {
      "cell_type": "code",
      "source": [
        "df.head()"
      ],
      "metadata": {
        "colab": {
          "base_uri": "https://localhost:8080/",
          "height": 206
        },
        "id": "Cf5j6h7aEZy_",
        "outputId": "a5e6bb81-9eb7-4adf-aa38-fce64e49502e"
      },
      "execution_count": null,
      "outputs": [
        {
          "output_type": "execute_result",
          "data": {
            "text/plain": [
              "        Date  Temp\n",
              "0 1981-01-01  20.7\n",
              "1 1981-01-02  17.9\n",
              "2 1981-01-03  18.8\n",
              "3 1981-01-04  14.6\n",
              "4 1981-01-05  15.8"
            ],
            "text/html": [
              "\n",
              "  <div id=\"df-1e545268-ace0-44c0-ae81-df86a3f17f6c\" class=\"colab-df-container\">\n",
              "    <div>\n",
              "<style scoped>\n",
              "    .dataframe tbody tr th:only-of-type {\n",
              "        vertical-align: middle;\n",
              "    }\n",
              "\n",
              "    .dataframe tbody tr th {\n",
              "        vertical-align: top;\n",
              "    }\n",
              "\n",
              "    .dataframe thead th {\n",
              "        text-align: right;\n",
              "    }\n",
              "</style>\n",
              "<table border=\"1\" class=\"dataframe\">\n",
              "  <thead>\n",
              "    <tr style=\"text-align: right;\">\n",
              "      <th></th>\n",
              "      <th>Date</th>\n",
              "      <th>Temp</th>\n",
              "    </tr>\n",
              "  </thead>\n",
              "  <tbody>\n",
              "    <tr>\n",
              "      <th>0</th>\n",
              "      <td>1981-01-01</td>\n",
              "      <td>20.7</td>\n",
              "    </tr>\n",
              "    <tr>\n",
              "      <th>1</th>\n",
              "      <td>1981-01-02</td>\n",
              "      <td>17.9</td>\n",
              "    </tr>\n",
              "    <tr>\n",
              "      <th>2</th>\n",
              "      <td>1981-01-03</td>\n",
              "      <td>18.8</td>\n",
              "    </tr>\n",
              "    <tr>\n",
              "      <th>3</th>\n",
              "      <td>1981-01-04</td>\n",
              "      <td>14.6</td>\n",
              "    </tr>\n",
              "    <tr>\n",
              "      <th>4</th>\n",
              "      <td>1981-01-05</td>\n",
              "      <td>15.8</td>\n",
              "    </tr>\n",
              "  </tbody>\n",
              "</table>\n",
              "</div>\n",
              "    <div class=\"colab-df-buttons\">\n",
              "\n",
              "  <div class=\"colab-df-container\">\n",
              "    <button class=\"colab-df-convert\" onclick=\"convertToInteractive('df-1e545268-ace0-44c0-ae81-df86a3f17f6c')\"\n",
              "            title=\"Convert this dataframe to an interactive table.\"\n",
              "            style=\"display:none;\">\n",
              "\n",
              "  <svg xmlns=\"http://www.w3.org/2000/svg\" height=\"24px\" viewBox=\"0 -960 960 960\">\n",
              "    <path d=\"M120-120v-720h720v720H120Zm60-500h600v-160H180v160Zm220 220h160v-160H400v160Zm0 220h160v-160H400v160ZM180-400h160v-160H180v160Zm440 0h160v-160H620v160ZM180-180h160v-160H180v160Zm440 0h160v-160H620v160Z\"/>\n",
              "  </svg>\n",
              "    </button>\n",
              "\n",
              "  <style>\n",
              "    .colab-df-container {\n",
              "      display:flex;\n",
              "      gap: 12px;\n",
              "    }\n",
              "\n",
              "    .colab-df-convert {\n",
              "      background-color: #E8F0FE;\n",
              "      border: none;\n",
              "      border-radius: 50%;\n",
              "      cursor: pointer;\n",
              "      display: none;\n",
              "      fill: #1967D2;\n",
              "      height: 32px;\n",
              "      padding: 0 0 0 0;\n",
              "      width: 32px;\n",
              "    }\n",
              "\n",
              "    .colab-df-convert:hover {\n",
              "      background-color: #E2EBFA;\n",
              "      box-shadow: 0px 1px 2px rgba(60, 64, 67, 0.3), 0px 1px 3px 1px rgba(60, 64, 67, 0.15);\n",
              "      fill: #174EA6;\n",
              "    }\n",
              "\n",
              "    .colab-df-buttons div {\n",
              "      margin-bottom: 4px;\n",
              "    }\n",
              "\n",
              "    [theme=dark] .colab-df-convert {\n",
              "      background-color: #3B4455;\n",
              "      fill: #D2E3FC;\n",
              "    }\n",
              "\n",
              "    [theme=dark] .colab-df-convert:hover {\n",
              "      background-color: #434B5C;\n",
              "      box-shadow: 0px 1px 3px 1px rgba(0, 0, 0, 0.15);\n",
              "      filter: drop-shadow(0px 1px 2px rgba(0, 0, 0, 0.3));\n",
              "      fill: #FFFFFF;\n",
              "    }\n",
              "  </style>\n",
              "\n",
              "    <script>\n",
              "      const buttonEl =\n",
              "        document.querySelector('#df-1e545268-ace0-44c0-ae81-df86a3f17f6c button.colab-df-convert');\n",
              "      buttonEl.style.display =\n",
              "        google.colab.kernel.accessAllowed ? 'block' : 'none';\n",
              "\n",
              "      async function convertToInteractive(key) {\n",
              "        const element = document.querySelector('#df-1e545268-ace0-44c0-ae81-df86a3f17f6c');\n",
              "        const dataTable =\n",
              "          await google.colab.kernel.invokeFunction('convertToInteractive',\n",
              "                                                    [key], {});\n",
              "        if (!dataTable) return;\n",
              "\n",
              "        const docLinkHtml = 'Like what you see? Visit the ' +\n",
              "          '<a target=\"_blank\" href=https://colab.research.google.com/notebooks/data_table.ipynb>data table notebook</a>'\n",
              "          + ' to learn more about interactive tables.';\n",
              "        element.innerHTML = '';\n",
              "        dataTable['output_type'] = 'display_data';\n",
              "        await google.colab.output.renderOutput(dataTable, element);\n",
              "        const docLink = document.createElement('div');\n",
              "        docLink.innerHTML = docLinkHtml;\n",
              "        element.appendChild(docLink);\n",
              "      }\n",
              "    </script>\n",
              "  </div>\n",
              "\n",
              "\n",
              "    <div id=\"df-ab9511c8-eb07-4d9c-bd95-f94151cb265c\">\n",
              "      <button class=\"colab-df-quickchart\" onclick=\"quickchart('df-ab9511c8-eb07-4d9c-bd95-f94151cb265c')\"\n",
              "                title=\"Suggest charts\"\n",
              "                style=\"display:none;\">\n",
              "\n",
              "<svg xmlns=\"http://www.w3.org/2000/svg\" height=\"24px\"viewBox=\"0 0 24 24\"\n",
              "     width=\"24px\">\n",
              "    <g>\n",
              "        <path d=\"M19 3H5c-1.1 0-2 .9-2 2v14c0 1.1.9 2 2 2h14c1.1 0 2-.9 2-2V5c0-1.1-.9-2-2-2zM9 17H7v-7h2v7zm4 0h-2V7h2v10zm4 0h-2v-4h2v4z\"/>\n",
              "    </g>\n",
              "</svg>\n",
              "      </button>\n",
              "\n",
              "<style>\n",
              "  .colab-df-quickchart {\n",
              "      --bg-color: #E8F0FE;\n",
              "      --fill-color: #1967D2;\n",
              "      --hover-bg-color: #E2EBFA;\n",
              "      --hover-fill-color: #174EA6;\n",
              "      --disabled-fill-color: #AAA;\n",
              "      --disabled-bg-color: #DDD;\n",
              "  }\n",
              "\n",
              "  [theme=dark] .colab-df-quickchart {\n",
              "      --bg-color: #3B4455;\n",
              "      --fill-color: #D2E3FC;\n",
              "      --hover-bg-color: #434B5C;\n",
              "      --hover-fill-color: #FFFFFF;\n",
              "      --disabled-bg-color: #3B4455;\n",
              "      --disabled-fill-color: #666;\n",
              "  }\n",
              "\n",
              "  .colab-df-quickchart {\n",
              "    background-color: var(--bg-color);\n",
              "    border: none;\n",
              "    border-radius: 50%;\n",
              "    cursor: pointer;\n",
              "    display: none;\n",
              "    fill: var(--fill-color);\n",
              "    height: 32px;\n",
              "    padding: 0;\n",
              "    width: 32px;\n",
              "  }\n",
              "\n",
              "  .colab-df-quickchart:hover {\n",
              "    background-color: var(--hover-bg-color);\n",
              "    box-shadow: 0 1px 2px rgba(60, 64, 67, 0.3), 0 1px 3px 1px rgba(60, 64, 67, 0.15);\n",
              "    fill: var(--button-hover-fill-color);\n",
              "  }\n",
              "\n",
              "  .colab-df-quickchart-complete:disabled,\n",
              "  .colab-df-quickchart-complete:disabled:hover {\n",
              "    background-color: var(--disabled-bg-color);\n",
              "    fill: var(--disabled-fill-color);\n",
              "    box-shadow: none;\n",
              "  }\n",
              "\n",
              "  .colab-df-spinner {\n",
              "    border: 2px solid var(--fill-color);\n",
              "    border-color: transparent;\n",
              "    border-bottom-color: var(--fill-color);\n",
              "    animation:\n",
              "      spin 1s steps(1) infinite;\n",
              "  }\n",
              "\n",
              "  @keyframes spin {\n",
              "    0% {\n",
              "      border-color: transparent;\n",
              "      border-bottom-color: var(--fill-color);\n",
              "      border-left-color: var(--fill-color);\n",
              "    }\n",
              "    20% {\n",
              "      border-color: transparent;\n",
              "      border-left-color: var(--fill-color);\n",
              "      border-top-color: var(--fill-color);\n",
              "    }\n",
              "    30% {\n",
              "      border-color: transparent;\n",
              "      border-left-color: var(--fill-color);\n",
              "      border-top-color: var(--fill-color);\n",
              "      border-right-color: var(--fill-color);\n",
              "    }\n",
              "    40% {\n",
              "      border-color: transparent;\n",
              "      border-right-color: var(--fill-color);\n",
              "      border-top-color: var(--fill-color);\n",
              "    }\n",
              "    60% {\n",
              "      border-color: transparent;\n",
              "      border-right-color: var(--fill-color);\n",
              "    }\n",
              "    80% {\n",
              "      border-color: transparent;\n",
              "      border-right-color: var(--fill-color);\n",
              "      border-bottom-color: var(--fill-color);\n",
              "    }\n",
              "    90% {\n",
              "      border-color: transparent;\n",
              "      border-bottom-color: var(--fill-color);\n",
              "    }\n",
              "  }\n",
              "</style>\n",
              "\n",
              "      <script>\n",
              "        async function quickchart(key) {\n",
              "          const quickchartButtonEl =\n",
              "            document.querySelector('#' + key + ' button');\n",
              "          quickchartButtonEl.disabled = true;  // To prevent multiple clicks.\n",
              "          quickchartButtonEl.classList.add('colab-df-spinner');\n",
              "          try {\n",
              "            const charts = await google.colab.kernel.invokeFunction(\n",
              "                'suggestCharts', [key], {});\n",
              "          } catch (error) {\n",
              "            console.error('Error during call to suggestCharts:', error);\n",
              "          }\n",
              "          quickchartButtonEl.classList.remove('colab-df-spinner');\n",
              "          quickchartButtonEl.classList.add('colab-df-quickchart-complete');\n",
              "        }\n",
              "        (() => {\n",
              "          let quickchartButtonEl =\n",
              "            document.querySelector('#df-ab9511c8-eb07-4d9c-bd95-f94151cb265c button');\n",
              "          quickchartButtonEl.style.display =\n",
              "            google.colab.kernel.accessAllowed ? 'block' : 'none';\n",
              "        })();\n",
              "      </script>\n",
              "    </div>\n",
              "\n",
              "    </div>\n",
              "  </div>\n"
            ],
            "application/vnd.google.colaboratory.intrinsic+json": {
              "type": "dataframe",
              "variable_name": "df",
              "summary": "{\n  \"name\": \"df\",\n  \"rows\": 3650,\n  \"fields\": [\n    {\n      \"column\": \"Date\",\n      \"properties\": {\n        \"dtype\": \"date\",\n        \"min\": \"1981-01-01 00:00:00\",\n        \"max\": \"1990-12-31 00:00:00\",\n        \"num_unique_values\": 3650,\n        \"samples\": [\n          \"1984-08-06 00:00:00\",\n          \"1985-08-03 00:00:00\",\n          \"1981-08-18 00:00:00\"\n        ],\n        \"semantic_type\": \"\",\n        \"description\": \"\"\n      }\n    },\n    {\n      \"column\": \"Temp\",\n      \"properties\": {\n        \"dtype\": \"number\",\n        \"std\": 4.07183689939719,\n        \"min\": 0.0,\n        \"max\": 26.3,\n        \"num_unique_values\": 229,\n        \"samples\": [\n          1.7,\n          14.5,\n          13.3\n        ],\n        \"semantic_type\": \"\",\n        \"description\": \"\"\n      }\n    }\n  ]\n}"
            }
          },
          "metadata": {},
          "execution_count": 3
        }
      ]
    },
    {
      "cell_type": "markdown",
      "source": [
        "**applied to only series without trend and seasonality\n",
        "means first remove trend and seasonality if it is present**"
      ],
      "metadata": {
        "id": "jDvtdMkvaLKr"
      }
    },
    {
      "cell_type": "markdown",
      "source": [
        "![image.png](data:image/png;base64,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)"
      ],
      "metadata": {
        "id": "0L9Thw6VbTc6"
      }
    },
    {
      "cell_type": "markdown",
      "source": [
        "auto regression is basically a linear regression\n",
        "\n",
        "it tries to fit a straight line"
      ],
      "metadata": {
        "id": "CuxOelBnaT5a"
      }
    },
    {
      "cell_type": "markdown",
      "source": [
        "why saying auto ? ->  regression model uses the same input variables at previous time steps\n",
        "like t-1 t-2 thats why it is\n",
        "referred to as auto regression -> regression of itself"
      ],
      "metadata": {
        "id": "s1XtFAUfavYS"
      }
    },
    {
      "cell_type": "markdown",
      "source": [
        "**auto regression means -> regression on the lagged values**"
      ],
      "metadata": {
        "id": "Atz3D7trhKUB"
      }
    },
    {
      "cell_type": "markdown",
      "source": [
        "## **Auto regression model**"
      ],
      "metadata": {
        "id": "7LXWD27HfS_B"
      }
    },
    {
      "cell_type": "code",
      "source": [
        "train=df.Temp[:df.shape[0]-7]"
      ],
      "metadata": {
        "id": "2jYd8vihbDBy"
      },
      "execution_count": null,
      "outputs": []
    },
    {
      "cell_type": "code",
      "source": [
        "test=df.Temp[df.shape[0]-7:]"
      ],
      "metadata": {
        "id": "9T7BxNxlbnNZ"
      },
      "execution_count": null,
      "outputs": []
    },
    {
      "cell_type": "code",
      "source": [
        "train.head()"
      ],
      "metadata": {
        "colab": {
          "base_uri": "https://localhost:8080/",
          "height": 241
        },
        "id": "kx5Mw_1WbnLL",
        "outputId": "1b3102ef-53d5-45e7-adfa-367393c161eb"
      },
      "execution_count": null,
      "outputs": [
        {
          "output_type": "execute_result",
          "data": {
            "text/plain": [
              "0    20.7\n",
              "1    17.9\n",
              "2    18.8\n",
              "3    14.6\n",
              "4    15.8\n",
              "Name: Temp, dtype: float64"
            ],
            "text/html": [
              "<div>\n",
              "<style scoped>\n",
              "    .dataframe tbody tr th:only-of-type {\n",
              "        vertical-align: middle;\n",
              "    }\n",
              "\n",
              "    .dataframe tbody tr th {\n",
              "        vertical-align: top;\n",
              "    }\n",
              "\n",
              "    .dataframe thead th {\n",
              "        text-align: right;\n",
              "    }\n",
              "</style>\n",
              "<table border=\"1\" class=\"dataframe\">\n",
              "  <thead>\n",
              "    <tr style=\"text-align: right;\">\n",
              "      <th></th>\n",
              "      <th>Temp</th>\n",
              "    </tr>\n",
              "  </thead>\n",
              "  <tbody>\n",
              "    <tr>\n",
              "      <th>0</th>\n",
              "      <td>20.7</td>\n",
              "    </tr>\n",
              "    <tr>\n",
              "      <th>1</th>\n",
              "      <td>17.9</td>\n",
              "    </tr>\n",
              "    <tr>\n",
              "      <th>2</th>\n",
              "      <td>18.8</td>\n",
              "    </tr>\n",
              "    <tr>\n",
              "      <th>3</th>\n",
              "      <td>14.6</td>\n",
              "    </tr>\n",
              "    <tr>\n",
              "      <th>4</th>\n",
              "      <td>15.8</td>\n",
              "    </tr>\n",
              "  </tbody>\n",
              "</table>\n",
              "</div><br><label><b>dtype:</b> float64</label>"
            ]
          },
          "metadata": {},
          "execution_count": 22
        }
      ]
    },
    {
      "cell_type": "code",
      "source": [
        "test.head()"
      ],
      "metadata": {
        "colab": {
          "base_uri": "https://localhost:8080/",
          "height": 241
        },
        "id": "faUOKY4AbnIq",
        "outputId": "f174d3ec-0350-433b-8739-0a528600e241"
      },
      "execution_count": null,
      "outputs": [
        {
          "output_type": "execute_result",
          "data": {
            "text/plain": [
              "3643    12.9\n",
              "3644    14.6\n",
              "3645    14.0\n",
              "3646    13.6\n",
              "3647    13.5\n",
              "Name: Temp, dtype: float64"
            ],
            "text/html": [
              "<div>\n",
              "<style scoped>\n",
              "    .dataframe tbody tr th:only-of-type {\n",
              "        vertical-align: middle;\n",
              "    }\n",
              "\n",
              "    .dataframe tbody tr th {\n",
              "        vertical-align: top;\n",
              "    }\n",
              "\n",
              "    .dataframe thead th {\n",
              "        text-align: right;\n",
              "    }\n",
              "</style>\n",
              "<table border=\"1\" class=\"dataframe\">\n",
              "  <thead>\n",
              "    <tr style=\"text-align: right;\">\n",
              "      <th></th>\n",
              "      <th>Temp</th>\n",
              "    </tr>\n",
              "  </thead>\n",
              "  <tbody>\n",
              "    <tr>\n",
              "      <th>3643</th>\n",
              "      <td>12.9</td>\n",
              "    </tr>\n",
              "    <tr>\n",
              "      <th>3644</th>\n",
              "      <td>14.6</td>\n",
              "    </tr>\n",
              "    <tr>\n",
              "      <th>3645</th>\n",
              "      <td>14.0</td>\n",
              "    </tr>\n",
              "    <tr>\n",
              "      <th>3646</th>\n",
              "      <td>13.6</td>\n",
              "    </tr>\n",
              "    <tr>\n",
              "      <th>3647</th>\n",
              "      <td>13.5</td>\n",
              "    </tr>\n",
              "  </tbody>\n",
              "</table>\n",
              "</div><br><label><b>dtype:</b> float64</label>"
            ]
          },
          "metadata": {},
          "execution_count": 23
        }
      ]
    },
    {
      "cell_type": "code",
      "source": [
        "from statsmodels.tsa.ar_model import AutoReg"
      ],
      "metadata": {
        "id": "FBTViAkmgFqB"
      },
      "execution_count": null,
      "outputs": []
    },
    {
      "cell_type": "code",
      "source": [
        "model = AutoReg(train, lags=15 ,old_names=False)   # you can adjust the number of lags\n",
        "model\n"
      ],
      "metadata": {
        "colab": {
          "base_uri": "https://localhost:8080/"
        },
        "id": "i6dMnGeIgRZp",
        "outputId": "2eff7846-dac3-4efe-e92d-e6c9bc7eaf26"
      },
      "execution_count": null,
      "outputs": [
        {
          "output_type": "execute_result",
          "data": {
            "text/plain": [
              "<statsmodels.tsa.ar_model.AutoReg at 0x7e84fb97de80>"
            ]
          },
          "metadata": {},
          "execution_count": 25
        }
      ]
    },
    {
      "cell_type": "markdown",
      "source": [
        "**(AIC, BIC) ka use karke optimal lag order nikalna padta hai.**"
      ],
      "metadata": {
        "id": "A_YlSke1jfVQ"
      }
    },
    {
      "cell_type": "markdown",
      "source": [
        "**AIC**"
      ],
      "metadata": {
        "id": "DuX7kZJqkfmw"
      }
    },
    {
      "cell_type": "code",
      "source": [
        "from statsmodels.tsa.ar_model import AutoReg\n",
        "import numpy as np\n",
        "\n",
        "best_aic = np.inf\n",
        "best_lag = None\n",
        "best_model = None\n",
        "\n",
        "# Try lag values from 1 to, say, 50\n",
        "for lag in range(1, 30):\n",
        "    try:\n",
        "        model = AutoReg(train, lags=lag, old_names=False)\n",
        "        model_fit = model.fit()\n",
        "        if model_fit.aic < best_aic:\n",
        "            best_aic = model_fit.aic\n",
        "            best_lag = lag\n",
        "            best_model = model_fit\n",
        "    except Exception as e:\n",
        "        continue\n",
        "\n",
        "print(\"Best lag length:\", best_lag)\n",
        "print(\"Best AIC:\", best_aic)\n"
      ],
      "metadata": {
        "colab": {
          "base_uri": "https://localhost:8080/"
        },
        "id": "tsTx-8eljew5",
        "outputId": "df801390-360a-4fb3-a5d9-387c1872e3de"
      },
      "execution_count": null,
      "outputs": [
        {
          "output_type": "stream",
          "name": "stdout",
          "text": [
            "Best lag length: 29\n",
            "Best AIC: 16633.077926235474\n"
          ]
        }
      ]
    },
    {
      "cell_type": "markdown",
      "source": [
        "**BIC**"
      ],
      "metadata": {
        "id": "u0TFGNQ5kmxv"
      }
    },
    {
      "cell_type": "code",
      "source": [
        "from statsmodels.tsa.ar_model import AutoReg\n",
        "import numpy as np\n",
        "\n",
        "best_bic = np.inf\n",
        "best_lag = None\n",
        "best_model = None\n",
        "\n",
        "# Try lag values from 1 to, say, 30\n",
        "for lag in range(1, 30):\n",
        "    try:\n",
        "        model = AutoReg(train, lags=lag, old_names=False)\n",
        "        model_fit = model.fit()\n",
        "        if model_fit.bic < best_bic:\n",
        "            best_bic = model_fit.bic\n",
        "            best_lag = lag\n",
        "            best_model = model_fit\n",
        "    except Exception:\n",
        "        continue\n",
        "\n",
        "print(\"Best lag length (BIC):\", best_lag)\n",
        "print(\"Best BIC:\", best_bic)\n"
      ],
      "metadata": {
        "colab": {
          "base_uri": "https://localhost:8080/"
        },
        "id": "3Yhj1VpDkj0S",
        "outputId": "00c844db-5cbd-49ee-ecc3-e110758c8945"
      },
      "execution_count": null,
      "outputs": [
        {
          "output_type": "stream",
          "name": "stdout",
          "text": [
            "Best lag length (BIC): 22\n",
            "Best BIC: 16802.62159359106\n"
          ]
        }
      ]
    },
    {
      "cell_type": "markdown",
      "source": [
        "![image.png](data:image/png;base64,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)"
      ],
      "metadata": {
        "id": "o9ldbUbyk-yQ"
      }
    },
    {
      "cell_type": "code",
      "source": [
        "model = AutoReg(train, lags=29 ,old_names=False)  # 29 got it through aic\n",
        "model"
      ],
      "metadata": {
        "colab": {
          "base_uri": "https://localhost:8080/"
        },
        "id": "PD6XaZcQjuqY",
        "outputId": "ff18ccee-eb86-42be-fc47-ce4cbe8de5e4"
      },
      "execution_count": null,
      "outputs": [
        {
          "output_type": "execute_result",
          "data": {
            "text/plain": [
              "<statsmodels.tsa.ar_model.AutoReg at 0x7e84fb97e930>"
            ]
          },
          "metadata": {},
          "execution_count": 27
        }
      ]
    },
    {
      "cell_type": "code",
      "source": [
        "model_fit=model.fit()\n",
        "model_fit"
      ],
      "metadata": {
        "colab": {
          "base_uri": "https://localhost:8080/"
        },
        "id": "YFuFwa73gVnw",
        "outputId": "59a8ee5a-39c6-4420-a3c0-849fbf39a1aa"
      },
      "execution_count": null,
      "outputs": [
        {
          "output_type": "execute_result",
          "data": {
            "text/plain": [
              "<statsmodels.tsa.ar_model.AutoRegResultsWrapper at 0x7e85227c8470>"
            ]
          },
          "metadata": {},
          "execution_count": 28
        }
      ]
    },
    {
      "cell_type": "code",
      "source": [
        "model_fit.summary()"
      ],
      "metadata": {
        "colab": {
          "base_uri": "https://localhost:8080/",
          "height": 1000
        },
        "id": "WCWiRG8j9UyP",
        "outputId": "f3a86a5c-a8dd-4bf1-8bcc-eea1fdad037c"
      },
      "execution_count": null,
      "outputs": [
        {
          "output_type": "execute_result",
          "data": {
            "text/plain": [
              "<class 'statsmodels.iolib.summary.Summary'>\n",
              "\"\"\"\n",
              "                            AutoReg Model Results                             \n",
              "==============================================================================\n",
              "Dep. Variable:                   Temp   No. Observations:                 3643\n",
              "Model:                    AutoReg(29)   Log Likelihood               -8285.539\n",
              "Method:               Conditional MLE   S.D. of innovations              2.396\n",
              "Date:                Fri, 19 Sep 2025   AIC                          16633.078\n",
              "Time:                        07:15:39   BIC                          16825.048\n",
              "Sample:                            29   HQIC                         16701.478\n",
              "                                 3643                                         \n",
              "==============================================================================\n",
              "                 coef    std err          z      P>|z|      [0.025      0.975]\n",
              "------------------------------------------------------------------------------\n",
              "const          0.5598      0.149      3.766      0.000       0.268       0.851\n",
              "Temp.L1        0.5887      0.017     35.375      0.000       0.556       0.621\n",
              "Temp.L2       -0.0908      0.019     -4.703      0.000      -0.129      -0.053\n",
              "Temp.L3        0.0482      0.019      2.487      0.013       0.010       0.086\n",
              "Temp.L4        0.0400      0.019      2.063      0.039       0.002       0.078\n",
              "Temp.L5        0.0394      0.019      2.030      0.042       0.001       0.077\n",
              "Temp.L6        0.0259      0.019      1.337      0.181      -0.012       0.064\n",
              "Temp.L7        0.0447      0.019      2.301      0.021       0.007       0.083\n",
              "Temp.L8        0.0131      0.019      0.677      0.498      -0.025       0.051\n",
              "Temp.L9        0.0371      0.019      1.914      0.056      -0.001       0.075\n",
              "Temp.L10      -0.0006      0.019     -0.033      0.974      -0.039       0.037\n",
              "Temp.L11       0.0049      0.019      0.255      0.799      -0.033       0.043\n",
              "Temp.L12       0.0180      0.019      0.930      0.352      -0.020       0.056\n",
              "Temp.L13       0.0270      0.019      1.391      0.164      -0.011       0.065\n",
              "Temp.L14       0.0006      0.019      0.032      0.974      -0.037       0.039\n",
              "Temp.L15       0.0245      0.019      1.263      0.207      -0.014       0.062\n",
              "Temp.L16       0.0074      0.019      0.380      0.704      -0.031       0.045\n",
              "Temp.L17       0.0099      0.019      0.512      0.608      -0.028       0.048\n",
              "Temp.L18       0.0344      0.019      1.775      0.076      -0.004       0.072\n",
              "Temp.L19      -0.0091      0.019     -0.469      0.639      -0.047       0.029\n",
              "Temp.L20       0.0242      0.019      1.247      0.213      -0.014       0.062\n",
              "Temp.L21       0.0186      0.019      0.958      0.338      -0.019       0.057\n",
              "Temp.L22       0.0123      0.019      0.635      0.526      -0.026       0.050\n",
              "Temp.L23      -0.0185      0.019     -0.956      0.339      -0.056       0.019\n",
              "Temp.L24      -0.0017      0.019     -0.089      0.929      -0.040       0.036\n",
              "Temp.L25       0.0167      0.019      0.864      0.388      -0.021       0.055\n",
              "Temp.L26       0.0200      0.019      1.033      0.302      -0.018       0.058\n",
              "Temp.L27       0.0096      0.019      0.499      0.618      -0.028       0.047\n",
              "Temp.L28       0.0064      0.019      0.330      0.741      -0.031       0.044\n",
              "Temp.L29      -0.0016      0.017     -0.094      0.925      -0.034       0.031\n",
              "                                    Roots                                     \n",
              "==============================================================================\n",
              "                   Real          Imaginary           Modulus         Frequency\n",
              "------------------------------------------------------------------------------\n",
              "AR.1             1.0086           -0.0000j            1.0086           -0.0000\n",
              "AR.2             1.0822           -0.2720j            1.1159           -0.0392\n",
              "AR.3             1.0822           +0.2720j            1.1159            0.0392\n",
              "AR.4             1.0239           -0.4949j            1.1372           -0.0717\n",
              "AR.5             1.0239           +0.4949j            1.1372            0.0717\n",
              "AR.6             0.8593           -0.7053j            1.1117           -0.1094\n",
              "AR.7             0.8593           +0.7053j            1.1117            0.1094\n",
              "AR.8             0.6621           -0.8818j            1.1027           -0.1475\n",
              "AR.9             0.6621           +0.8818j            1.1027            0.1475\n",
              "AR.10            0.4268           -1.0358j            1.1203           -0.1878\n",
              "AR.11            0.4268           +1.0358j            1.1203            0.1878\n",
              "AR.12            0.1427           -1.1158j            1.1249           -0.2298\n",
              "AR.13            0.1427           +1.1158j            1.1249            0.2298\n",
              "AR.14           -1.1797           -0.0000j            1.1797           -0.5000\n",
              "AR.15           -1.1421           -0.3427j            1.1924           -0.4536\n",
              "AR.16           -1.1421           +0.3427j            1.1924            0.4536\n",
              "AR.17           -0.9340           -0.7350j            1.1885           -0.3939\n",
              "AR.18           -0.9340           +0.7350j            1.1885            0.3939\n",
              "AR.19           -1.1954           -0.5446j            1.3136           -0.4320\n",
              "AR.20           -1.1954           +0.5446j            1.3136            0.4320\n",
              "AR.21           -0.7690           -0.9886j            1.2525           -0.3552\n",
              "AR.22           -0.7690           +0.9886j            1.2525            0.3552\n",
              "AR.23           -0.5153           -1.0556j            1.1747           -0.3223\n",
              "AR.24           -0.5153           +1.0556j            1.1747            0.3223\n",
              "AR.25           -0.1901           -1.1469j            1.1626           -0.2761\n",
              "AR.26           -0.1901           +1.1469j            1.1626            0.2761\n",
              "AR.27           -0.1433           -1.5590j            1.5656           -0.2646\n",
              "AR.28           -0.1433           +1.5590j            1.5656            0.2646\n",
              "AR.29            5.6181           -0.0000j            5.6181           -0.0000\n",
              "------------------------------------------------------------------------------\n",
              "\"\"\""
            ],
            "text/html": [
              "<table class=\"simpletable\">\n",
              "<caption>AutoReg Model Results</caption>\n",
              "<tr>\n",
              "  <th>Dep. Variable:</th>       <td>Temp</td>       <th>  No. Observations:  </th>   <td>3643</td>   \n",
              "</tr>\n",
              "<tr>\n",
              "  <th>Model:</th>            <td>AutoReg(29)</td>   <th>  Log Likelihood     </th> <td>-8285.539</td>\n",
              "</tr>\n",
              "<tr>\n",
              "  <th>Method:</th>         <td>Conditional MLE</td> <th>  S.D. of innovations</th>   <td>2.396</td>  \n",
              "</tr>\n",
              "<tr>\n",
              "  <th>Date:</th>          <td>Fri, 19 Sep 2025</td> <th>  AIC                </th> <td>16633.078</td>\n",
              "</tr>\n",
              "<tr>\n",
              "  <th>Time:</th>              <td>07:15:39</td>     <th>  BIC                </th> <td>16825.048</td>\n",
              "</tr>\n",
              "<tr>\n",
              "  <th>Sample:</th>               <td>29</td>        <th>  HQIC               </th> <td>16701.478</td>\n",
              "</tr>\n",
              "<tr>\n",
              "  <th></th>                     <td>3643</td>       <th>                     </th>     <td> </td>    \n",
              "</tr>\n",
              "</table>\n",
              "<table class=\"simpletable\">\n",
              "<tr>\n",
              "      <td></td>        <th>coef</th>     <th>std err</th>      <th>z</th>      <th>P>|z|</th>  <th>[0.025</th>    <th>0.975]</th>  \n",
              "</tr>\n",
              "<tr>\n",
              "  <th>const</th>    <td>    0.5598</td> <td>    0.149</td> <td>    3.766</td> <td> 0.000</td> <td>    0.268</td> <td>    0.851</td>\n",
              "</tr>\n",
              "<tr>\n",
              "  <th>Temp.L1</th>  <td>    0.5887</td> <td>    0.017</td> <td>   35.375</td> <td> 0.000</td> <td>    0.556</td> <td>    0.621</td>\n",
              "</tr>\n",
              "<tr>\n",
              "  <th>Temp.L2</th>  <td>   -0.0908</td> <td>    0.019</td> <td>   -4.703</td> <td> 0.000</td> <td>   -0.129</td> <td>   -0.053</td>\n",
              "</tr>\n",
              "<tr>\n",
              "  <th>Temp.L3</th>  <td>    0.0482</td> <td>    0.019</td> <td>    2.487</td> <td> 0.013</td> <td>    0.010</td> <td>    0.086</td>\n",
              "</tr>\n",
              "<tr>\n",
              "  <th>Temp.L4</th>  <td>    0.0400</td> <td>    0.019</td> <td>    2.063</td> <td> 0.039</td> <td>    0.002</td> <td>    0.078</td>\n",
              "</tr>\n",
              "<tr>\n",
              "  <th>Temp.L5</th>  <td>    0.0394</td> <td>    0.019</td> <td>    2.030</td> <td> 0.042</td> <td>    0.001</td> <td>    0.077</td>\n",
              "</tr>\n",
              "<tr>\n",
              "  <th>Temp.L6</th>  <td>    0.0259</td> <td>    0.019</td> <td>    1.337</td> <td> 0.181</td> <td>   -0.012</td> <td>    0.064</td>\n",
              "</tr>\n",
              "<tr>\n",
              "  <th>Temp.L7</th>  <td>    0.0447</td> <td>    0.019</td> <td>    2.301</td> <td> 0.021</td> <td>    0.007</td> <td>    0.083</td>\n",
              "</tr>\n",
              "<tr>\n",
              "  <th>Temp.L8</th>  <td>    0.0131</td> <td>    0.019</td> <td>    0.677</td> <td> 0.498</td> <td>   -0.025</td> <td>    0.051</td>\n",
              "</tr>\n",
              "<tr>\n",
              "  <th>Temp.L9</th>  <td>    0.0371</td> <td>    0.019</td> <td>    1.914</td> <td> 0.056</td> <td>   -0.001</td> <td>    0.075</td>\n",
              "</tr>\n",
              "<tr>\n",
              "  <th>Temp.L10</th> <td>   -0.0006</td> <td>    0.019</td> <td>   -0.033</td> <td> 0.974</td> <td>   -0.039</td> <td>    0.037</td>\n",
              "</tr>\n",
              "<tr>\n",
              "  <th>Temp.L11</th> <td>    0.0049</td> <td>    0.019</td> <td>    0.255</td> <td> 0.799</td> <td>   -0.033</td> <td>    0.043</td>\n",
              "</tr>\n",
              "<tr>\n",
              "  <th>Temp.L12</th> <td>    0.0180</td> <td>    0.019</td> <td>    0.930</td> <td> 0.352</td> <td>   -0.020</td> <td>    0.056</td>\n",
              "</tr>\n",
              "<tr>\n",
              "  <th>Temp.L13</th> <td>    0.0270</td> <td>    0.019</td> <td>    1.391</td> <td> 0.164</td> <td>   -0.011</td> <td>    0.065</td>\n",
              "</tr>\n",
              "<tr>\n",
              "  <th>Temp.L14</th> <td>    0.0006</td> <td>    0.019</td> <td>    0.032</td> <td> 0.974</td> <td>   -0.037</td> <td>    0.039</td>\n",
              "</tr>\n",
              "<tr>\n",
              "  <th>Temp.L15</th> <td>    0.0245</td> <td>    0.019</td> <td>    1.263</td> <td> 0.207</td> <td>   -0.014</td> <td>    0.062</td>\n",
              "</tr>\n",
              "<tr>\n",
              "  <th>Temp.L16</th> <td>    0.0074</td> <td>    0.019</td> <td>    0.380</td> <td> 0.704</td> <td>   -0.031</td> <td>    0.045</td>\n",
              "</tr>\n",
              "<tr>\n",
              "  <th>Temp.L17</th> <td>    0.0099</td> <td>    0.019</td> <td>    0.512</td> <td> 0.608</td> <td>   -0.028</td> <td>    0.048</td>\n",
              "</tr>\n",
              "<tr>\n",
              "  <th>Temp.L18</th> <td>    0.0344</td> <td>    0.019</td> <td>    1.775</td> <td> 0.076</td> <td>   -0.004</td> <td>    0.072</td>\n",
              "</tr>\n",
              "<tr>\n",
              "  <th>Temp.L19</th> <td>   -0.0091</td> <td>    0.019</td> <td>   -0.469</td> <td> 0.639</td> <td>   -0.047</td> <td>    0.029</td>\n",
              "</tr>\n",
              "<tr>\n",
              "  <th>Temp.L20</th> <td>    0.0242</td> <td>    0.019</td> <td>    1.247</td> <td> 0.213</td> <td>   -0.014</td> <td>    0.062</td>\n",
              "</tr>\n",
              "<tr>\n",
              "  <th>Temp.L21</th> <td>    0.0186</td> <td>    0.019</td> <td>    0.958</td> <td> 0.338</td> <td>   -0.019</td> <td>    0.057</td>\n",
              "</tr>\n",
              "<tr>\n",
              "  <th>Temp.L22</th> <td>    0.0123</td> <td>    0.019</td> <td>    0.635</td> <td> 0.526</td> <td>   -0.026</td> <td>    0.050</td>\n",
              "</tr>\n",
              "<tr>\n",
              "  <th>Temp.L23</th> <td>   -0.0185</td> <td>    0.019</td> <td>   -0.956</td> <td> 0.339</td> <td>   -0.056</td> <td>    0.019</td>\n",
              "</tr>\n",
              "<tr>\n",
              "  <th>Temp.L24</th> <td>   -0.0017</td> <td>    0.019</td> <td>   -0.089</td> <td> 0.929</td> <td>   -0.040</td> <td>    0.036</td>\n",
              "</tr>\n",
              "<tr>\n",
              "  <th>Temp.L25</th> <td>    0.0167</td> <td>    0.019</td> <td>    0.864</td> <td> 0.388</td> <td>   -0.021</td> <td>    0.055</td>\n",
              "</tr>\n",
              "<tr>\n",
              "  <th>Temp.L26</th> <td>    0.0200</td> <td>    0.019</td> <td>    1.033</td> <td> 0.302</td> <td>   -0.018</td> <td>    0.058</td>\n",
              "</tr>\n",
              "<tr>\n",
              "  <th>Temp.L27</th> <td>    0.0096</td> <td>    0.019</td> <td>    0.499</td> <td> 0.618</td> <td>   -0.028</td> <td>    0.047</td>\n",
              "</tr>\n",
              "<tr>\n",
              "  <th>Temp.L28</th> <td>    0.0064</td> <td>    0.019</td> <td>    0.330</td> <td> 0.741</td> <td>   -0.031</td> <td>    0.044</td>\n",
              "</tr>\n",
              "<tr>\n",
              "  <th>Temp.L29</th> <td>   -0.0016</td> <td>    0.017</td> <td>   -0.094</td> <td> 0.925</td> <td>   -0.034</td> <td>    0.031</td>\n",
              "</tr>\n",
              "</table>\n",
              "<table class=\"simpletable\">\n",
              "<caption>Roots</caption>\n",
              "<tr>\n",
              "    <td></td>    <th>            Real</th>  <th>         Imaginary</th> <th>         Modulus</th>  <th>        Frequency</th>\n",
              "</tr>\n",
              "<tr>\n",
              "  <th>AR.1</th>  <td>           1.0086</td> <td>          -0.0000j</td> <td>           1.0086</td> <td>          -0.0000</td>\n",
              "</tr>\n",
              "<tr>\n",
              "  <th>AR.2</th>  <td>           1.0822</td> <td>          -0.2720j</td> <td>           1.1159</td> <td>          -0.0392</td>\n",
              "</tr>\n",
              "<tr>\n",
              "  <th>AR.3</th>  <td>           1.0822</td> <td>          +0.2720j</td> <td>           1.1159</td> <td>           0.0392</td>\n",
              "</tr>\n",
              "<tr>\n",
              "  <th>AR.4</th>  <td>           1.0239</td> <td>          -0.4949j</td> <td>           1.1372</td> <td>          -0.0717</td>\n",
              "</tr>\n",
              "<tr>\n",
              "  <th>AR.5</th>  <td>           1.0239</td> <td>          +0.4949j</td> <td>           1.1372</td> <td>           0.0717</td>\n",
              "</tr>\n",
              "<tr>\n",
              "  <th>AR.6</th>  <td>           0.8593</td> <td>          -0.7053j</td> <td>           1.1117</td> <td>          -0.1094</td>\n",
              "</tr>\n",
              "<tr>\n",
              "  <th>AR.7</th>  <td>           0.8593</td> <td>          +0.7053j</td> <td>           1.1117</td> <td>           0.1094</td>\n",
              "</tr>\n",
              "<tr>\n",
              "  <th>AR.8</th>  <td>           0.6621</td> <td>          -0.8818j</td> <td>           1.1027</td> <td>          -0.1475</td>\n",
              "</tr>\n",
              "<tr>\n",
              "  <th>AR.9</th>  <td>           0.6621</td> <td>          +0.8818j</td> <td>           1.1027</td> <td>           0.1475</td>\n",
              "</tr>\n",
              "<tr>\n",
              "  <th>AR.10</th> <td>           0.4268</td> <td>          -1.0358j</td> <td>           1.1203</td> <td>          -0.1878</td>\n",
              "</tr>\n",
              "<tr>\n",
              "  <th>AR.11</th> <td>           0.4268</td> <td>          +1.0358j</td> <td>           1.1203</td> <td>           0.1878</td>\n",
              "</tr>\n",
              "<tr>\n",
              "  <th>AR.12</th> <td>           0.1427</td> <td>          -1.1158j</td> <td>           1.1249</td> <td>          -0.2298</td>\n",
              "</tr>\n",
              "<tr>\n",
              "  <th>AR.13</th> <td>           0.1427</td> <td>          +1.1158j</td> <td>           1.1249</td> <td>           0.2298</td>\n",
              "</tr>\n",
              "<tr>\n",
              "  <th>AR.14</th> <td>          -1.1797</td> <td>          -0.0000j</td> <td>           1.1797</td> <td>          -0.5000</td>\n",
              "</tr>\n",
              "<tr>\n",
              "  <th>AR.15</th> <td>          -1.1421</td> <td>          -0.3427j</td> <td>           1.1924</td> <td>          -0.4536</td>\n",
              "</tr>\n",
              "<tr>\n",
              "  <th>AR.16</th> <td>          -1.1421</td> <td>          +0.3427j</td> <td>           1.1924</td> <td>           0.4536</td>\n",
              "</tr>\n",
              "<tr>\n",
              "  <th>AR.17</th> <td>          -0.9340</td> <td>          -0.7350j</td> <td>           1.1885</td> <td>          -0.3939</td>\n",
              "</tr>\n",
              "<tr>\n",
              "  <th>AR.18</th> <td>          -0.9340</td> <td>          +0.7350j</td> <td>           1.1885</td> <td>           0.3939</td>\n",
              "</tr>\n",
              "<tr>\n",
              "  <th>AR.19</th> <td>          -1.1954</td> <td>          -0.5446j</td> <td>           1.3136</td> <td>          -0.4320</td>\n",
              "</tr>\n",
              "<tr>\n",
              "  <th>AR.20</th> <td>          -1.1954</td> <td>          +0.5446j</td> <td>           1.3136</td> <td>           0.4320</td>\n",
              "</tr>\n",
              "<tr>\n",
              "  <th>AR.21</th> <td>          -0.7690</td> <td>          -0.9886j</td> <td>           1.2525</td> <td>          -0.3552</td>\n",
              "</tr>\n",
              "<tr>\n",
              "  <th>AR.22</th> <td>          -0.7690</td> <td>          +0.9886j</td> <td>           1.2525</td> <td>           0.3552</td>\n",
              "</tr>\n",
              "<tr>\n",
              "  <th>AR.23</th> <td>          -0.5153</td> <td>          -1.0556j</td> <td>           1.1747</td> <td>          -0.3223</td>\n",
              "</tr>\n",
              "<tr>\n",
              "  <th>AR.24</th> <td>          -0.5153</td> <td>          +1.0556j</td> <td>           1.1747</td> <td>           0.3223</td>\n",
              "</tr>\n",
              "<tr>\n",
              "  <th>AR.25</th> <td>          -0.1901</td> <td>          -1.1469j</td> <td>           1.1626</td> <td>          -0.2761</td>\n",
              "</tr>\n",
              "<tr>\n",
              "  <th>AR.26</th> <td>          -0.1901</td> <td>          +1.1469j</td> <td>           1.1626</td> <td>           0.2761</td>\n",
              "</tr>\n",
              "<tr>\n",
              "  <th>AR.27</th> <td>          -0.1433</td> <td>          -1.5590j</td> <td>           1.5656</td> <td>          -0.2646</td>\n",
              "</tr>\n",
              "<tr>\n",
              "  <th>AR.28</th> <td>          -0.1433</td> <td>          +1.5590j</td> <td>           1.5656</td> <td>           0.2646</td>\n",
              "</tr>\n",
              "<tr>\n",
              "  <th>AR.29</th> <td>           5.6181</td> <td>          -0.0000j</td> <td>           5.6181</td> <td>          -0.0000</td>\n",
              "</tr>\n",
              "</table>"
            ],
            "text/latex": "\\begin{center}\n\\begin{tabular}{lclc}\n\\toprule\n\\textbf{Dep. Variable:} &            Temp           & \\textbf{  No. Observations:  } &            3643            \\\\\n\\textbf{Model:}         &        AutoReg(29)        & \\textbf{  Log Likelihood     } &         -8285.539          \\\\\n\\textbf{Method:}        &      Conditional MLE      & \\textbf{  S.D. of innovations} &           2.396            \\\\\n\\textbf{Date:}          &      Fri, 19 Sep 2025     & \\textbf{  AIC                } &         16633.078          \\\\\n\\textbf{Time:}          &          07:15:39         & \\textbf{  BIC                } &         16825.048          \\\\\n\\textbf{Sample:}        &             29            & \\textbf{  HQIC               } &         16701.478          \\\\\n\\textbf{}               &            3643           & \\textbf{                     } &                            \\\\\n\\bottomrule\n\\end{tabular}\n\\begin{tabular}{lcccccc}\n                  & \\textbf{coef} & \\textbf{std err} & \\textbf{z} & \\textbf{P$> |$z$|$} & \\textbf{[0.025} & \\textbf{0.975]}  \\\\\n\\midrule\n\\textbf{const}    &       0.5598  &        0.149     &     3.766  &         0.000        &        0.268    &        0.851     \\\\\n\\textbf{Temp.L1}  &       0.5887  &        0.017     &    35.375  &         0.000        &        0.556    &        0.621     \\\\\n\\textbf{Temp.L2}  &      -0.0908  &        0.019     &    -4.703  &         0.000        &       -0.129    &       -0.053     \\\\\n\\textbf{Temp.L3}  &       0.0482  &        0.019     &     2.487  &         0.013        &        0.010    &        0.086     \\\\\n\\textbf{Temp.L4}  &       0.0400  &        0.019     &     2.063  &         0.039        &        0.002    &        0.078     \\\\\n\\textbf{Temp.L5}  &       0.0394  &        0.019     &     2.030  &         0.042        &        0.001    &        0.077     \\\\\n\\textbf{Temp.L6}  &       0.0259  &        0.019     &     1.337  &         0.181        &       -0.012    &        0.064     \\\\\n\\textbf{Temp.L7}  &       0.0447  &        0.019     &     2.301  &         0.021        &        0.007    &        0.083     \\\\\n\\textbf{Temp.L8}  &       0.0131  &        0.019     &     0.677  &         0.498        &       -0.025    &        0.051     \\\\\n\\textbf{Temp.L9}  &       0.0371  &        0.019     &     1.914  &         0.056        &       -0.001    &        0.075     \\\\\n\\textbf{Temp.L10} &      -0.0006  &        0.019     &    -0.033  &         0.974        &       -0.039    &        0.037     \\\\\n\\textbf{Temp.L11} &       0.0049  &        0.019     &     0.255  &         0.799        &       -0.033    &        0.043     \\\\\n\\textbf{Temp.L12} &       0.0180  &        0.019     &     0.930  &         0.352        &       -0.020    &        0.056     \\\\\n\\textbf{Temp.L13} &       0.0270  &        0.019     &     1.391  &         0.164        &       -0.011    &        0.065     \\\\\n\\textbf{Temp.L14} &       0.0006  &        0.019     &     0.032  &         0.974        &       -0.037    &        0.039     \\\\\n\\textbf{Temp.L15} &       0.0245  &        0.019     &     1.263  &         0.207        &       -0.014    &        0.062     \\\\\n\\textbf{Temp.L16} &       0.0074  &        0.019     &     0.380  &         0.704        &       -0.031    &        0.045     \\\\\n\\textbf{Temp.L17} &       0.0099  &        0.019     &     0.512  &         0.608        &       -0.028    &        0.048     \\\\\n\\textbf{Temp.L18} &       0.0344  &        0.019     &     1.775  &         0.076        &       -0.004    &        0.072     \\\\\n\\textbf{Temp.L19} &      -0.0091  &        0.019     &    -0.469  &         0.639        &       -0.047    &        0.029     \\\\\n\\textbf{Temp.L20} &       0.0242  &        0.019     &     1.247  &         0.213        &       -0.014    &        0.062     \\\\\n\\textbf{Temp.L21} &       0.0186  &        0.019     &     0.958  &         0.338        &       -0.019    &        0.057     \\\\\n\\textbf{Temp.L22} &       0.0123  &        0.019     &     0.635  &         0.526        &       -0.026    &        0.050     \\\\\n\\textbf{Temp.L23} &      -0.0185  &        0.019     &    -0.956  &         0.339        &       -0.056    &        0.019     \\\\\n\\textbf{Temp.L24} &      -0.0017  &        0.019     &    -0.089  &         0.929        &       -0.040    &        0.036     \\\\\n\\textbf{Temp.L25} &       0.0167  &        0.019     &     0.864  &         0.388        &       -0.021    &        0.055     \\\\\n\\textbf{Temp.L26} &       0.0200  &        0.019     &     1.033  &         0.302        &       -0.018    &        0.058     \\\\\n\\textbf{Temp.L27} &       0.0096  &        0.019     &     0.499  &         0.618        &       -0.028    &        0.047     \\\\\n\\textbf{Temp.L28} &       0.0064  &        0.019     &     0.330  &         0.741        &       -0.031    &        0.044     \\\\\n\\textbf{Temp.L29} &      -0.0016  &        0.017     &    -0.094  &         0.925        &       -0.034    &        0.031     \\\\\n\\bottomrule\n\\end{tabular}\n\\begin{tabular}{lcccc}\n               & \\textbf{            Real} & \\textbf{         Imaginary} & \\textbf{         Modulus} & \\textbf{        Frequency}  \\\\\n\\midrule\n\\textbf{AR.1}  &                1.0086     &                -0.0000j     &                1.0086     &               -0.0000       \\\\\n\\textbf{AR.2}  &                1.0822     &                -0.2720j     &                1.1159     &               -0.0392       \\\\\n\\textbf{AR.3}  &                1.0822     &                +0.2720j     &                1.1159     &                0.0392       \\\\\n\\textbf{AR.4}  &                1.0239     &                -0.4949j     &                1.1372     &               -0.0717       \\\\\n\\textbf{AR.5}  &                1.0239     &                +0.4949j     &                1.1372     &                0.0717       \\\\\n\\textbf{AR.6}  &                0.8593     &                -0.7053j     &                1.1117     &               -0.1094       \\\\\n\\textbf{AR.7}  &                0.8593     &                +0.7053j     &                1.1117     &                0.1094       \\\\\n\\textbf{AR.8}  &                0.6621     &                -0.8818j     &                1.1027     &               -0.1475       \\\\\n\\textbf{AR.9}  &                0.6621     &                +0.8818j     &                1.1027     &                0.1475       \\\\\n\\textbf{AR.10} &                0.4268     &                -1.0358j     &                1.1203     &               -0.1878       \\\\\n\\textbf{AR.11} &                0.4268     &                +1.0358j     &                1.1203     &                0.1878       \\\\\n\\textbf{AR.12} &                0.1427     &                -1.1158j     &                1.1249     &               -0.2298       \\\\\n\\textbf{AR.13} &                0.1427     &                +1.1158j     &                1.1249     &                0.2298       \\\\\n\\textbf{AR.14} &               -1.1797     &                -0.0000j     &                1.1797     &               -0.5000       \\\\\n\\textbf{AR.15} &               -1.1421     &                -0.3427j     &                1.1924     &               -0.4536       \\\\\n\\textbf{AR.16} &               -1.1421     &                +0.3427j     &                1.1924     &                0.4536       \\\\\n\\textbf{AR.17} &               -0.9340     &                -0.7350j     &                1.1885     &               -0.3939       \\\\\n\\textbf{AR.18} &               -0.9340     &                +0.7350j     &                1.1885     &                0.3939       \\\\\n\\textbf{AR.19} &               -1.1954     &                -0.5446j     &                1.3136     &               -0.4320       \\\\\n\\textbf{AR.20} &               -1.1954     &                +0.5446j     &                1.3136     &                0.4320       \\\\\n\\textbf{AR.21} &               -0.7690     &                -0.9886j     &                1.2525     &               -0.3552       \\\\\n\\textbf{AR.22} &               -0.7690     &                +0.9886j     &                1.2525     &                0.3552       \\\\\n\\textbf{AR.23} &               -0.5153     &                -1.0556j     &                1.1747     &               -0.3223       \\\\\n\\textbf{AR.24} &               -0.5153     &                +1.0556j     &                1.1747     &                0.3223       \\\\\n\\textbf{AR.25} &               -0.1901     &                -1.1469j     &                1.1626     &               -0.2761       \\\\\n\\textbf{AR.26} &               -0.1901     &                +1.1469j     &                1.1626     &                0.2761       \\\\\n\\textbf{AR.27} &               -0.1433     &                -1.5590j     &                1.5656     &               -0.2646       \\\\\n\\textbf{AR.28} &               -0.1433     &                +1.5590j     &                1.5656     &                0.2646       \\\\\n\\textbf{AR.29} &                5.6181     &                -0.0000j     &                5.6181     &               -0.0000       \\\\\n\\bottomrule\n\\end{tabular}\n%\\caption{AutoReg Model Results}\n\\end{center}"
          },
          "metadata": {},
          "execution_count": 29
        }
      ]
    },
    {
      "cell_type": "markdown",
      "source": [
        "**how many lag values are coming out to be important in our model**"
      ],
      "metadata": {
        "id": "ZfkkW5E7ggiw"
      }
    },
    {
      "cell_type": "markdown",
      "source": [
        "**no of lag variables**"
      ],
      "metadata": {
        "id": "23o4r3jRiRCJ"
      }
    },
    {
      "cell_type": "code",
      "source": [
        "# Number of lags used\n",
        "print(\"Number of lags:\", len(model_fit.ar_lags))\n",
        "\n"
      ],
      "metadata": {
        "colab": {
          "base_uri": "https://localhost:8080/"
        },
        "id": "CZxSo1qrhj-f",
        "outputId": "867097ec-162f-46c1-ad84-c851a614cdac"
      },
      "execution_count": null,
      "outputs": [
        {
          "output_type": "stream",
          "name": "stdout",
          "text": [
            "Number of lags: 29\n"
          ]
        }
      ]
    },
    {
      "cell_type": "code",
      "source": [
        "\n",
        "\n",
        "# Coefficients\n",
        "print(\"Coefficients:\", model_fit.params)"
      ],
      "metadata": {
        "colab": {
          "base_uri": "https://localhost:8080/"
        },
        "id": "kFOnI4GShj8C",
        "outputId": "2c174dc1-2b61-4086-e555-195ce13fd4da"
      },
      "execution_count": null,
      "outputs": [
        {
          "output_type": "stream",
          "name": "stdout",
          "text": [
            "Coefficients: const       0.559773\n",
            "Temp.L1     0.588662\n",
            "Temp.L2    -0.090812\n",
            "Temp.L3     0.048164\n",
            "Temp.L4     0.039991\n",
            "Temp.L5     0.039368\n",
            "Temp.L6     0.025947\n",
            "Temp.L7     0.044675\n",
            "Temp.L8     0.013143\n",
            "Temp.L9     0.037145\n",
            "Temp.L10   -0.000641\n",
            "Temp.L11    0.004939\n",
            "Temp.L12    0.018024\n",
            "Temp.L13    0.026961\n",
            "Temp.L14    0.000623\n",
            "Temp.L15    0.024457\n",
            "Temp.L16    0.007353\n",
            "Temp.L17    0.009925\n",
            "Temp.L18    0.034385\n",
            "Temp.L19   -0.009096\n",
            "Temp.L20    0.024165\n",
            "Temp.L21    0.018566\n",
            "Temp.L22    0.012295\n",
            "Temp.L23   -0.018518\n",
            "Temp.L24   -0.001717\n",
            "Temp.L25    0.016713\n",
            "Temp.L26    0.019966\n",
            "Temp.L27    0.009631\n",
            "Temp.L28    0.006363\n",
            "Temp.L29   -0.001566\n",
            "dtype: float64\n"
          ]
        }
      ]
    },
    {
      "cell_type": "code",
      "source": [
        "prediction=model_fit.predict(start=len(train),end=len(train)+len(test)-1)\n",
        "prediction"
      ],
      "metadata": {
        "colab": {
          "base_uri": "https://localhost:8080/",
          "height": 304
        },
        "id": "jj63jXZKhj3B",
        "outputId": "9ad428a5-f054-480a-dc5c-7d688f0d086e"
      },
      "execution_count": null,
      "outputs": [
        {
          "output_type": "execute_result",
          "data": {
            "text/plain": [
              "3643    11.872160\n",
              "3644    13.055704\n",
              "3645    13.531810\n",
              "3646    13.242590\n",
              "3647    13.091564\n",
              "3648    13.146082\n",
              "3649    13.176492\n",
              "dtype: float64"
            ],
            "text/html": [
              "<div>\n",
              "<style scoped>\n",
              "    .dataframe tbody tr th:only-of-type {\n",
              "        vertical-align: middle;\n",
              "    }\n",
              "\n",
              "    .dataframe tbody tr th {\n",
              "        vertical-align: top;\n",
              "    }\n",
              "\n",
              "    .dataframe thead th {\n",
              "        text-align: right;\n",
              "    }\n",
              "</style>\n",
              "<table border=\"1\" class=\"dataframe\">\n",
              "  <thead>\n",
              "    <tr style=\"text-align: right;\">\n",
              "      <th></th>\n",
              "      <th>0</th>\n",
              "    </tr>\n",
              "  </thead>\n",
              "  <tbody>\n",
              "    <tr>\n",
              "      <th>3643</th>\n",
              "      <td>11.872160</td>\n",
              "    </tr>\n",
              "    <tr>\n",
              "      <th>3644</th>\n",
              "      <td>13.055704</td>\n",
              "    </tr>\n",
              "    <tr>\n",
              "      <th>3645</th>\n",
              "      <td>13.531810</td>\n",
              "    </tr>\n",
              "    <tr>\n",
              "      <th>3646</th>\n",
              "      <td>13.242590</td>\n",
              "    </tr>\n",
              "    <tr>\n",
              "      <th>3647</th>\n",
              "      <td>13.091564</td>\n",
              "    </tr>\n",
              "    <tr>\n",
              "      <th>3648</th>\n",
              "      <td>13.146082</td>\n",
              "    </tr>\n",
              "    <tr>\n",
              "      <th>3649</th>\n",
              "      <td>13.176492</td>\n",
              "    </tr>\n",
              "  </tbody>\n",
              "</table>\n",
              "</div><br><label><b>dtype:</b> float64</label>"
            ]
          },
          "metadata": {},
          "execution_count": 32
        }
      ]
    },
    {
      "cell_type": "code",
      "source": [
        "prediction.iloc[0]"
      ],
      "metadata": {
        "colab": {
          "base_uri": "https://localhost:8080/"
        },
        "id": "zFdK2WRhhjz5",
        "outputId": "70cb28ea-7988-4f17-8303-0f68705377b9"
      },
      "execution_count": null,
      "outputs": [
        {
          "output_type": "execute_result",
          "data": {
            "text/plain": [
              "np.float64(11.87216020967234)"
            ]
          },
          "metadata": {},
          "execution_count": 33
        }
      ]
    },
    {
      "cell_type": "code",
      "source": [
        "from sklearn.metrics import mean_squared_error\n",
        "mse=mean_squared_error(test,prediction)\n",
        "mse"
      ],
      "metadata": {
        "colab": {
          "base_uri": "https://localhost:8080/"
        },
        "id": "W3GnpN7DmwhX",
        "outputId": "47da11c7-b150-49d9-ec10-8b2ca7f60b7b"
      },
      "execution_count": null,
      "outputs": [
        {
          "output_type": "execute_result",
          "data": {
            "text/plain": [
              "1.5012452323028211"
            ]
          },
          "metadata": {},
          "execution_count": 34
        }
      ]
    },
    {
      "cell_type": "code",
      "source": [
        "import matplotlib.pyplot as plt\n",
        "plt.plot(test,color=\"green\",label=\"actual\")\n",
        "plt.plot(prediction,color=\"red\",label=\"predictions\")\n",
        "plt.legend()\n",
        "plt.show()"
      ],
      "metadata": {
        "colab": {
          "base_uri": "https://localhost:8080/",
          "height": 430
        },
        "id": "hby2v7t4o1bG",
        "outputId": "62fec10a-38eb-4cb1-9f8a-5794320938b6"
      },
      "execution_count": null,
      "outputs": [
        {
          "output_type": "display_data",
          "data": {
            "text/plain": [
              "<Figure size 640x480 with 1 Axes>"
            ],
            "image/png": "[encoded data removed]"
          },
          "metadata": {}
        }
      ]
    },
    {
      "cell_type": "code",
      "source": [
        "import numpy\n",
        "import pandas\n",
        "import sklearn\n",
        "import statsmodels\n",
        "import sys\n",
        "print(\"python:\",sys.version)\n",
        "print(\"numpy:\", numpy.__version__)\n",
        "print(\"pandas:\", pandas.__version__)\n",
        "print(\"scikit-learn:\", sklearn.__version__)\n",
        "print(\"statsmodels:\", statsmodels.__version__)\n"
      ],
      "metadata": {
        "colab": {
          "base_uri": "https://localhost:8080/"
        },
        "id": "2yNb_JQpmcEv",
        "outputId": "cfeb3e76-e1a2-44be-aed4-889e92acf18a"
      },
      "execution_count": null,
      "outputs": [
        {
          "output_type": "stream",
          "name": "stdout",
          "text": [
            "python: 3.12.11 (main, Jun  4 2025, 08:56:18) [GCC 11.4.0]\n",
            "numpy: 2.0.2\n",
            "pandas: 2.2.2\n",
            "scikit-learn: 1.6.1\n",
            "statsmodels: 0.14.5\n"
          ]
        }
      ]
    },
    {
      "cell_type": "code",
      "source": [],
      "metadata": {
        "id": "F9bfhTe_pDuG"
      },
      "execution_count": null,
      "outputs": []
    }
  ]
}