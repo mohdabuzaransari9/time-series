{
  "nbformat": 4,
  "nbformat_minor": 0,
  "metadata": {
    "colab": {
      "provenance": []
    },
    "kernelspec": {
      "name": "python3",
      "display_name": "Python 3"
    },
    "language_info": {
      "name": "python"
    }
  },
  "cells": [
    {
      "cell_type": "markdown",
      "source": [
        "**loading data**"
      ],
      "metadata": {
        "id": "00dB8SZzEXYA"
      }
    },
    {
      "cell_type": "code",
      "source": [
        "import pandas as pd\n",
        "import numpy as np\n",
        "import matplotlib.pyplot as plt\n"
      ],
      "metadata": {
        "id": "2NfRV_-FEMXo"
      },
      "execution_count": 75,
      "outputs": []
    },
    {
      "cell_type": "code",
      "source": [
        "df=pd.read_csv(\"/content/data/daily-min-temperatures.csv\",header=0,parse_dates=[0])"
      ],
      "metadata": {
        "id": "cbiihDtcEOnR"
      },
      "execution_count": 76,
      "outputs": []
    },
    {
      "cell_type": "code",
      "source": [
        "df.head()"
      ],
      "metadata": {
        "colab": {
          "base_uri": "https://localhost:8080/",
          "height": 206
        },
        "id": "Cf5j6h7aEZy_",
        "outputId": "e74f30ed-fe65-40fa-ee4d-995977efee32"
      },
      "execution_count": 77,
      "outputs": [
        {
          "output_type": "execute_result",
          "data": {
            "text/plain": [
              "        Date  Temp\n",
              "0 1981-01-01  20.7\n",
              "1 1981-01-02  17.9\n",
              "2 1981-01-03  18.8\n",
              "3 1981-01-04  14.6\n",
              "4 1981-01-05  15.8"
            ],
            "text/html": [
              "\n",
              "  <div id=\"df-ce99025b-df60-48d9-9211-0fe0b196afed\" class=\"colab-df-container\">\n",
              "    <div>\n",
              "<style scoped>\n",
              "    .dataframe tbody tr th:only-of-type {\n",
              "        vertical-align: middle;\n",
              "    }\n",
              "\n",
              "    .dataframe tbody tr th {\n",
              "        vertical-align: top;\n",
              "    }\n",
              "\n",
              "    .dataframe thead th {\n",
              "        text-align: right;\n",
              "    }\n",
              "</style>\n",
              "<table border=\"1\" class=\"dataframe\">\n",
              "  <thead>\n",
              "    <tr style=\"text-align: right;\">\n",
              "      <th></th>\n",
              "      <th>Date</th>\n",
              "      <th>Temp</th>\n",
              "    </tr>\n",
              "  </thead>\n",
              "  <tbody>\n",
              "    <tr>\n",
              "      <th>0</th>\n",
              "      <td>1981-01-01</td>\n",
              "      <td>20.7</td>\n",
              "    </tr>\n",
              "    <tr>\n",
              "      <th>1</th>\n",
              "      <td>1981-01-02</td>\n",
              "      <td>17.9</td>\n",
              "    </tr>\n",
              "    <tr>\n",
              "      <th>2</th>\n",
              "      <td>1981-01-03</td>\n",
              "      <td>18.8</td>\n",
              "    </tr>\n",
              "    <tr>\n",
              "      <th>3</th>\n",
              "      <td>1981-01-04</td>\n",
              "      <td>14.6</td>\n",
              "    </tr>\n",
              "    <tr>\n",
              "      <th>4</th>\n",
              "      <td>1981-01-05</td>\n",
              "      <td>15.8</td>\n",
              "    </tr>\n",
              "  </tbody>\n",
              "</table>\n",
              "</div>\n",
              "    <div class=\"colab-df-buttons\">\n",
              "\n",
              "  <div class=\"colab-df-container\">\n",
              "    <button class=\"colab-df-convert\" onclick=\"convertToInteractive('df-ce99025b-df60-48d9-9211-0fe0b196afed')\"\n",
              "            title=\"Convert this dataframe to an interactive table.\"\n",
              "            style=\"display:none;\">\n",
              "\n",
              "  <svg xmlns=\"http://www.w3.org/2000/svg\" height=\"24px\" viewBox=\"0 -960 960 960\">\n",
              "    <path d=\"M120-120v-720h720v720H120Zm60-500h600v-160H180v160Zm220 220h160v-160H400v160Zm0 220h160v-160H400v160ZM180-400h160v-160H180v160Zm440 0h160v-160H620v160ZM180-180h160v-160H180v160Zm440 0h160v-160H620v160Z\"/>\n",
              "  </svg>\n",
              "    </button>\n",
              "\n",
              "  <style>\n",
              "    .colab-df-container {\n",
              "      display:flex;\n",
              "      gap: 12px;\n",
              "    }\n",
              "\n",
              "    .colab-df-convert {\n",
              "      background-color: #E8F0FE;\n",
              "      border: none;\n",
              "      border-radius: 50%;\n",
              "      cursor: pointer;\n",
              "      display: none;\n",
              "      fill: #1967D2;\n",
              "      height: 32px;\n",
              "      padding: 0 0 0 0;\n",
              "      width: 32px;\n",
              "    }\n",
              "\n",
              "    .colab-df-convert:hover {\n",
              "      background-color: #E2EBFA;\n",
              "      box-shadow: 0px 1px 2px rgba(60, 64, 67, 0.3), 0px 1px 3px 1px rgba(60, 64, 67, 0.15);\n",
              "      fill: #174EA6;\n",
              "    }\n",
              "\n",
              "    .colab-df-buttons div {\n",
              "      margin-bottom: 4px;\n",
              "    }\n",
              "\n",
              "    [theme=dark] .colab-df-convert {\n",
              "      background-color: #3B4455;\n",
              "      fill: #D2E3FC;\n",
              "    }\n",
              "\n",
              "    [theme=dark] .colab-df-convert:hover {\n",
              "      background-color: #434B5C;\n",
              "      box-shadow: 0px 1px 3px 1px rgba(0, 0, 0, 0.15);\n",
              "      filter: drop-shadow(0px 1px 2px rgba(0, 0, 0, 0.3));\n",
              "      fill: #FFFFFF;\n",
              "    }\n",
              "  </style>\n",
              "\n",
              "    <script>\n",
              "      const buttonEl =\n",
              "        document.querySelector('#df-ce99025b-df60-48d9-9211-0fe0b196afed button.colab-df-convert');\n",
              "      buttonEl.style.display =\n",
              "        google.colab.kernel.accessAllowed ? 'block' : 'none';\n",
              "\n",
              "      async function convertToInteractive(key) {\n",
              "        const element = document.querySelector('#df-ce99025b-df60-48d9-9211-0fe0b196afed');\n",
              "        const dataTable =\n",
              "          await google.colab.kernel.invokeFunction('convertToInteractive',\n",
              "                                                    [key], {});\n",
              "        if (!dataTable) return;\n",
              "\n",
              "        const docLinkHtml = 'Like what you see? Visit the ' +\n",
              "          '<a target=\"_blank\" href=https://colab.research.google.com/notebooks/data_table.ipynb>data table notebook</a>'\n",
              "          + ' to learn more about interactive tables.';\n",
              "        element.innerHTML = '';\n",
              "        dataTable['output_type'] = 'display_data';\n",
              "        await google.colab.output.renderOutput(dataTable, element);\n",
              "        const docLink = document.createElement('div');\n",
              "        docLink.innerHTML = docLinkHtml;\n",
              "        element.appendChild(docLink);\n",
              "      }\n",
              "    </script>\n",
              "  </div>\n",
              "\n",
              "\n",
              "    <div id=\"df-22083e80-83ee-4ca4-be65-48ad72e66904\">\n",
              "      <button class=\"colab-df-quickchart\" onclick=\"quickchart('df-22083e80-83ee-4ca4-be65-48ad72e66904')\"\n",
              "                title=\"Suggest charts\"\n",
              "                style=\"display:none;\">\n",
              "\n",
              "<svg xmlns=\"http://www.w3.org/2000/svg\" height=\"24px\"viewBox=\"0 0 24 24\"\n",
              "     width=\"24px\">\n",
              "    <g>\n",
              "        <path d=\"M19 3H5c-1.1 0-2 .9-2 2v14c0 1.1.9 2 2 2h14c1.1 0 2-.9 2-2V5c0-1.1-.9-2-2-2zM9 17H7v-7h2v7zm4 0h-2V7h2v10zm4 0h-2v-4h2v4z\"/>\n",
              "    </g>\n",
              "</svg>\n",
              "      </button>\n",
              "\n",
              "<style>\n",
              "  .colab-df-quickchart {\n",
              "      --bg-color: #E8F0FE;\n",
              "      --fill-color: #1967D2;\n",
              "      --hover-bg-color: #E2EBFA;\n",
              "      --hover-fill-color: #174EA6;\n",
              "      --disabled-fill-color: #AAA;\n",
              "      --disabled-bg-color: #DDD;\n",
              "  }\n",
              "\n",
              "  [theme=dark] .colab-df-quickchart {\n",
              "      --bg-color: #3B4455;\n",
              "      --fill-color: #D2E3FC;\n",
              "      --hover-bg-color: #434B5C;\n",
              "      --hover-fill-color: #FFFFFF;\n",
              "      --disabled-bg-color: #3B4455;\n",
              "      --disabled-fill-color: #666;\n",
              "  }\n",
              "\n",
              "  .colab-df-quickchart {\n",
              "    background-color: var(--bg-color);\n",
              "    border: none;\n",
              "    border-radius: 50%;\n",
              "    cursor: pointer;\n",
              "    display: none;\n",
              "    fill: var(--fill-color);\n",
              "    height: 32px;\n",
              "    padding: 0;\n",
              "    width: 32px;\n",
              "  }\n",
              "\n",
              "  .colab-df-quickchart:hover {\n",
              "    background-color: var(--hover-bg-color);\n",
              "    box-shadow: 0 1px 2px rgba(60, 64, 67, 0.3), 0 1px 3px 1px rgba(60, 64, 67, 0.15);\n",
              "    fill: var(--button-hover-fill-color);\n",
              "  }\n",
              "\n",
              "  .colab-df-quickchart-complete:disabled,\n",
              "  .colab-df-quickchart-complete:disabled:hover {\n",
              "    background-color: var(--disabled-bg-color);\n",
              "    fill: var(--disabled-fill-color);\n",
              "    box-shadow: none;\n",
              "  }\n",
              "\n",
              "  .colab-df-spinner {\n",
              "    border: 2px solid var(--fill-color);\n",
              "    border-color: transparent;\n",
              "    border-bottom-color: var(--fill-color);\n",
              "    animation:\n",
              "      spin 1s steps(1) infinite;\n",
              "  }\n",
              "\n",
              "  @keyframes spin {\n",
              "    0% {\n",
              "      border-color: transparent;\n",
              "      border-bottom-color: var(--fill-color);\n",
              "      border-left-color: var(--fill-color);\n",
              "    }\n",
              "    20% {\n",
              "      border-color: transparent;\n",
              "      border-left-color: var(--fill-color);\n",
              "      border-top-color: var(--fill-color);\n",
              "    }\n",
              "    30% {\n",
              "      border-color: transparent;\n",
              "      border-left-color: var(--fill-color);\n",
              "      border-top-color: var(--fill-color);\n",
              "      border-right-color: var(--fill-color);\n",
              "    }\n",
              "    40% {\n",
              "      border-color: transparent;\n",
              "      border-right-color: var(--fill-color);\n",
              "      border-top-color: var(--fill-color);\n",
              "    }\n",
              "    60% {\n",
              "      border-color: transparent;\n",
              "      border-right-color: var(--fill-color);\n",
              "    }\n",
              "    80% {\n",
              "      border-color: transparent;\n",
              "      border-right-color: var(--fill-color);\n",
              "      border-bottom-color: var(--fill-color);\n",
              "    }\n",
              "    90% {\n",
              "      border-color: transparent;\n",
              "      border-bottom-color: var(--fill-color);\n",
              "    }\n",
              "  }\n",
              "</style>\n",
              "\n",
              "      <script>\n",
              "        async function quickchart(key) {\n",
              "          const quickchartButtonEl =\n",
              "            document.querySelector('#' + key + ' button');\n",
              "          quickchartButtonEl.disabled = true;  // To prevent multiple clicks.\n",
              "          quickchartButtonEl.classList.add('colab-df-spinner');\n",
              "          try {\n",
              "            const charts = await google.colab.kernel.invokeFunction(\n",
              "                'suggestCharts', [key], {});\n",
              "          } catch (error) {\n",
              "            console.error('Error during call to suggestCharts:', error);\n",
              "          }\n",
              "          quickchartButtonEl.classList.remove('colab-df-spinner');\n",
              "          quickchartButtonEl.classList.add('colab-df-quickchart-complete');\n",
              "        }\n",
              "        (() => {\n",
              "          let quickchartButtonEl =\n",
              "            document.querySelector('#df-22083e80-83ee-4ca4-be65-48ad72e66904 button');\n",
              "          quickchartButtonEl.style.display =\n",
              "            google.colab.kernel.accessAllowed ? 'block' : 'none';\n",
              "        })();\n",
              "      </script>\n",
              "    </div>\n",
              "\n",
              "    </div>\n",
              "  </div>\n"
            ],
            "application/vnd.google.colaboratory.intrinsic+json": {
              "type": "dataframe",
              "variable_name": "df",
              "summary": "{\n  \"name\": \"df\",\n  \"rows\": 3650,\n  \"fields\": [\n    {\n      \"column\": \"Date\",\n      \"properties\": {\n        \"dtype\": \"date\",\n        \"min\": \"1981-01-01 00:00:00\",\n        \"max\": \"1990-12-31 00:00:00\",\n        \"num_unique_values\": 3650,\n        \"samples\": [\n          \"1984-08-06 00:00:00\",\n          \"1985-08-03 00:00:00\",\n          \"1981-08-18 00:00:00\"\n        ],\n        \"semantic_type\": \"\",\n        \"description\": \"\"\n      }\n    },\n    {\n      \"column\": \"Temp\",\n      \"properties\": {\n        \"dtype\": \"number\",\n        \"std\": 4.07183689939719,\n        \"min\": 0.0,\n        \"max\": 26.3,\n        \"num_unique_values\": 229,\n        \"samples\": [\n          1.7,\n          14.5,\n          13.3\n        ],\n        \"semantic_type\": \"\",\n        \"description\": \"\"\n      }\n    }\n  ]\n}"
            }
          },
          "metadata": {},
          "execution_count": 77
        }
      ]
    },
    {
      "cell_type": "markdown",
      "source": [
        "**applied to only series without trend and seasonality\n",
        "means first remove trend and seasonality if it is present**"
      ],
      "metadata": {
        "id": "jDvtdMkvaLKr"
      }
    },
    {
      "cell_type": "code",
      "source": [
        "train=df.Temp[:df.shape[0]-7]\n"
      ],
      "metadata": {
        "id": "2jYd8vihbDBy"
      },
      "execution_count": 78,
      "outputs": []
    },
    {
      "cell_type": "code",
      "source": [
        "test=df.Temp[df.shape[0]-7:]"
      ],
      "metadata": {
        "id": "9T7BxNxlbnNZ"
      },
      "execution_count": 79,
      "outputs": []
    },
    {
      "cell_type": "code",
      "source": [
        "train.head()"
      ],
      "metadata": {
        "colab": {
          "base_uri": "https://localhost:8080/",
          "height": 241
        },
        "id": "kx5Mw_1WbnLL",
        "outputId": "98c7155b-25b2-48b0-db1a-2a5723041942"
      },
      "execution_count": 80,
      "outputs": [
        {
          "output_type": "execute_result",
          "data": {
            "text/plain": [
              "0    20.7\n",
              "1    17.9\n",
              "2    18.8\n",
              "3    14.6\n",
              "4    15.8\n",
              "Name: Temp, dtype: float64"
            ],
            "text/html": [
              "<div>\n",
              "<style scoped>\n",
              "    .dataframe tbody tr th:only-of-type {\n",
              "        vertical-align: middle;\n",
              "    }\n",
              "\n",
              "    .dataframe tbody tr th {\n",
              "        vertical-align: top;\n",
              "    }\n",
              "\n",
              "    .dataframe thead th {\n",
              "        text-align: right;\n",
              "    }\n",
              "</style>\n",
              "<table border=\"1\" class=\"dataframe\">\n",
              "  <thead>\n",
              "    <tr style=\"text-align: right;\">\n",
              "      <th></th>\n",
              "      <th>Temp</th>\n",
              "    </tr>\n",
              "  </thead>\n",
              "  <tbody>\n",
              "    <tr>\n",
              "      <th>0</th>\n",
              "      <td>20.7</td>\n",
              "    </tr>\n",
              "    <tr>\n",
              "      <th>1</th>\n",
              "      <td>17.9</td>\n",
              "    </tr>\n",
              "    <tr>\n",
              "      <th>2</th>\n",
              "      <td>18.8</td>\n",
              "    </tr>\n",
              "    <tr>\n",
              "      <th>3</th>\n",
              "      <td>14.6</td>\n",
              "    </tr>\n",
              "    <tr>\n",
              "      <th>4</th>\n",
              "      <td>15.8</td>\n",
              "    </tr>\n",
              "  </tbody>\n",
              "</table>\n",
              "</div><br><label><b>dtype:</b> float64</label>"
            ]
          },
          "metadata": {},
          "execution_count": 80
        }
      ]
    },
    {
      "cell_type": "code",
      "source": [
        "test.head()"
      ],
      "metadata": {
        "colab": {
          "base_uri": "https://localhost:8080/",
          "height": 241
        },
        "id": "faUOKY4AbnIq",
        "outputId": "896d9e7c-cc69-4066-9e80-1ee8260c8764"
      },
      "execution_count": 81,
      "outputs": [
        {
          "output_type": "execute_result",
          "data": {
            "text/plain": [
              "3643    12.9\n",
              "3644    14.6\n",
              "3645    14.0\n",
              "3646    13.6\n",
              "3647    13.5\n",
              "Name: Temp, dtype: float64"
            ],
            "text/html": [
              "<div>\n",
              "<style scoped>\n",
              "    .dataframe tbody tr th:only-of-type {\n",
              "        vertical-align: middle;\n",
              "    }\n",
              "\n",
              "    .dataframe tbody tr th {\n",
              "        vertical-align: top;\n",
              "    }\n",
              "\n",
              "    .dataframe thead th {\n",
              "        text-align: right;\n",
              "    }\n",
              "</style>\n",
              "<table border=\"1\" class=\"dataframe\">\n",
              "  <thead>\n",
              "    <tr style=\"text-align: right;\">\n",
              "      <th></th>\n",
              "      <th>Temp</th>\n",
              "    </tr>\n",
              "  </thead>\n",
              "  <tbody>\n",
              "    <tr>\n",
              "      <th>3643</th>\n",
              "      <td>12.9</td>\n",
              "    </tr>\n",
              "    <tr>\n",
              "      <th>3644</th>\n",
              "      <td>14.6</td>\n",
              "    </tr>\n",
              "    <tr>\n",
              "      <th>3645</th>\n",
              "      <td>14.0</td>\n",
              "    </tr>\n",
              "    <tr>\n",
              "      <th>3646</th>\n",
              "      <td>13.6</td>\n",
              "    </tr>\n",
              "    <tr>\n",
              "      <th>3647</th>\n",
              "      <td>13.5</td>\n",
              "    </tr>\n",
              "  </tbody>\n",
              "</table>\n",
              "</div><br><label><b>dtype:</b> float64</label>"
            ]
          },
          "metadata": {},
          "execution_count": 81
        }
      ]
    },
    {
      "cell_type": "code",
      "source": [
        "from statsmodels.tsa.ar_model import AutoReg"
      ],
      "metadata": {
        "id": "X7npPkF531ze"
      },
      "execution_count": 82,
      "outputs": []
    },
    {
      "cell_type": "code",
      "source": [
        "from statsmodels.tsa.ar_model import ar_select_order"
      ],
      "metadata": {
        "id": "_u-15BJnjTe-"
      },
      "execution_count": 83,
      "outputs": []
    },
    {
      "cell_type": "code",
      "source": [
        "data = train.copy()\n",
        "predictions = []\n",
        "\n",
        "for t in test:\n",
        "    # set maxlag\n",
        "\n",
        "    maxlag = int(len(data) ** 0.5)   # square root of n\n",
        "    if maxlag < 1:\n",
        "        maxlag = 1\n",
        "\n",
        "\n",
        "\n",
        "    sel = ar_select_order(data, maxlag=maxlag, ic='aic')\n",
        "    best_lag = sel.ar_lags[-1]   # chosen lag\n",
        "\n",
        "    # fit model with best lag\n",
        "    model = AutoReg(data, lags=best_lag, old_names=False)\n",
        "    model_fit = model.fit()\n",
        "\n",
        "    #  forecast\n",
        "    y = model_fit.predict(start=len(data), end=len(data)+len(test)-1)\n",
        "    predictions.append(y.iloc[0])\n",
        "\n",
        "    # update training data with actual observation\n",
        "    data = pd.concat([data, pd.Series([t])], ignore_index=True)\n",
        "\n",
        "\n"
      ],
      "metadata": {
        "id": "EqCDK-fWoJOV"
      },
      "execution_count": 84,
      "outputs": []
    },
    {
      "cell_type": "markdown",
      "source": [
        "![walkforward2.png](data:image/png;base64,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)"
      ],
      "metadata": {
        "id": "eIBvrwbSdNmD"
      }
    },
    {
      "cell_type": "code",
      "source": [
        "best_lag\n"
      ],
      "metadata": {
        "colab": {
          "base_uri": "https://localhost:8080/"
        },
        "id": "czsWfFonsNgV",
        "outputId": "bfe9a284-b00b-48dc-dc65-5b2126973d57"
      },
      "execution_count": 85,
      "outputs": [
        {
          "output_type": "execute_result",
          "data": {
            "text/plain": [
              "21"
            ]
          },
          "metadata": {},
          "execution_count": 85
        }
      ]
    },
    {
      "cell_type": "code",
      "source": [
        "predictions"
      ],
      "metadata": {
        "colab": {
          "base_uri": "https://localhost:8080/"
        },
        "id": "P_c0vW3L730m",
        "outputId": "1f36fd14-bd3e-49bb-8875-2e177147e410"
      },
      "execution_count": 86,
      "outputs": [
        {
          "output_type": "execute_result",
          "data": {
            "text/plain": [
              "[np.float64(11.908816394063095),\n",
              " np.float64(13.738247171368325),\n",
              " np.float64(14.409290373405822),\n",
              " np.float64(13.496580831109313),\n",
              " np.float64(13.320598050832196),\n",
              " np.float64(13.333859342571392),\n",
              " np.float64(14.457430441746109)]"
            ]
          },
          "metadata": {},
          "execution_count": 86
        }
      ]
    },
    {
      "cell_type": "code",
      "source": [
        "test"
      ],
      "metadata": {
        "colab": {
          "base_uri": "https://localhost:8080/",
          "height": 303
        },
        "id": "u9c-W8ax4G1m",
        "outputId": "0d715b6c-4ce7-4453-8728-3047c9d7a3bf"
      },
      "execution_count": 87,
      "outputs": [
        {
          "output_type": "execute_result",
          "data": {
            "text/plain": [
              "3643    12.9\n",
              "3644    14.6\n",
              "3645    14.0\n",
              "3646    13.6\n",
              "3647    13.5\n",
              "3648    15.7\n",
              "3649    13.0\n",
              "Name: Temp, dtype: float64"
            ],
            "text/html": [
              "<div>\n",
              "<style scoped>\n",
              "    .dataframe tbody tr th:only-of-type {\n",
              "        vertical-align: middle;\n",
              "    }\n",
              "\n",
              "    .dataframe tbody tr th {\n",
              "        vertical-align: top;\n",
              "    }\n",
              "\n",
              "    .dataframe thead th {\n",
              "        text-align: right;\n",
              "    }\n",
              "</style>\n",
              "<table border=\"1\" class=\"dataframe\">\n",
              "  <thead>\n",
              "    <tr style=\"text-align: right;\">\n",
              "      <th></th>\n",
              "      <th>Temp</th>\n",
              "    </tr>\n",
              "  </thead>\n",
              "  <tbody>\n",
              "    <tr>\n",
              "      <th>3643</th>\n",
              "      <td>12.9</td>\n",
              "    </tr>\n",
              "    <tr>\n",
              "      <th>3644</th>\n",
              "      <td>14.6</td>\n",
              "    </tr>\n",
              "    <tr>\n",
              "      <th>3645</th>\n",
              "      <td>14.0</td>\n",
              "    </tr>\n",
              "    <tr>\n",
              "      <th>3646</th>\n",
              "      <td>13.6</td>\n",
              "    </tr>\n",
              "    <tr>\n",
              "      <th>3647</th>\n",
              "      <td>13.5</td>\n",
              "    </tr>\n",
              "    <tr>\n",
              "      <th>3648</th>\n",
              "      <td>15.7</td>\n",
              "    </tr>\n",
              "    <tr>\n",
              "      <th>3649</th>\n",
              "      <td>13.0</td>\n",
              "    </tr>\n",
              "  </tbody>\n",
              "</table>\n",
              "</div><br><label><b>dtype:</b> float64</label>"
            ]
          },
          "metadata": {},
          "execution_count": 87
        }
      ]
    },
    {
      "cell_type": "code",
      "source": [
        "from sklearn.metrics import mean_squared_error\n",
        "mse=mean_squared_error(test.values,predictions)\n",
        "mse"
      ],
      "metadata": {
        "colab": {
          "base_uri": "https://localhost:8080/"
        },
        "id": "LidtJNwajOVu",
        "outputId": "fcb67142-db3f-4c62-bf33-6698c38cf743"
      },
      "execution_count": 88,
      "outputs": [
        {
          "output_type": "execute_result",
          "data": {
            "text/plain": [
              "1.3797410250313773"
            ]
          },
          "metadata": {},
          "execution_count": 88
        }
      ]
    },
    {
      "cell_type": "code",
      "source": [
        "import matplotlib.pyplot as plt\n",
        "plt.plot(test.values,color=\"green\",label=\"actual\")\n",
        "plt.plot(predictions,color=\"red\",label=\"predictions\")\n",
        "plt.legend()\n",
        "plt.show()"
      ],
      "metadata": {
        "colab": {
          "base_uri": "https://localhost:8080/",
          "height": 430
        },
        "id": "hxOIsX_wkZ5O",
        "outputId": "ded80e3c-f375-42d6-b2cd-6bd79ef6b75c"
      },
      "execution_count": 89,
      "outputs": [
        {
          "output_type": "display_data",
          "data": {
            "text/plain": [
              "<Figure size 640x480 with 1 Axes>"
            ],
            "image/png": "[encoded data removed]"
          },
          "metadata": {}
        }
      ]
    },
    {
      "cell_type": "code",
      "source": [
        "import sys\n",
        "import numpy\n",
        "import pandas\n",
        "import matplotlib\n",
        "import sklearn\n",
        "import statsmodels\n",
        "print(\"python:\",sys.version)\n",
        "print(\"numpy:\", numpy.__version__)\n",
        "print(\"pandas:\", pandas.__version__)\n",
        "print(\"matplotlib\" ,matplotlib.__version__ )\n",
        "print(\"scikit-learn:\", sklearn.__version__)\n",
        "print(\"statsmodels:\", statsmodels.__version__)\n"
      ],
      "metadata": {
        "colab": {
          "base_uri": "https://localhost:8080/"
        },
        "id": "2yNb_JQpmcEv",
        "outputId": "a4cf5ea1-acdb-4c29-ee7a-c52639d684d0"
      },
      "execution_count": 90,
      "outputs": [
        {
          "output_type": "stream",
          "name": "stdout",
          "text": [
            "python: 3.12.11 (main, Jun  4 2025, 08:56:18) [GCC 11.4.0]\n",
            "numpy: 2.0.2\n",
            "pandas: 2.2.2\n",
            "matplotlib 3.10.0\n",
            "scikit-learn: 1.6.1\n",
            "statsmodels: 0.14.5\n"
          ]
        }
      ]
    },
    {
      "cell_type": "code",
      "source": [],
      "metadata": {
        "id": "zT58cgCIkeQO"
      },
      "execution_count": 90,
      "outputs": []
    }
  ]
}